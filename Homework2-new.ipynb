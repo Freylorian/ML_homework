{
  "nbformat": 4,
  "nbformat_minor": 0,
  "metadata": {
    "colab": {
      "provenance": []
    },
    "kernelspec": {
      "name": "python3",
      "display_name": "Python 3"
    },
    "language_info": {
      "name": "python"
    }
  },
  "cells": [
    {
      "cell_type": "code",
      "execution_count": null,
      "metadata": {
        "colab": {
          "base_uri": "https://localhost:8080/"
        },
        "id": "efImvAyHzpwu",
        "outputId": "f3a11711-031e-4a85-866b-a6a37660b987"
      },
      "outputs": [
        {
          "output_type": "stream",
          "name": "stdout",
          "text": [
            "\u001b[31mERROR: pip's dependency resolver does not currently take into account all the packages that are installed. This behaviour is the source of the following dependency conflicts.\n",
            "lida 0.0.10 requires fastapi, which is not installed.\n",
            "lida 0.0.10 requires kaleido, which is not installed.\n",
            "lida 0.0.10 requires python-multipart, which is not installed.\n",
            "lida 0.0.10 requires uvicorn, which is not installed.\u001b[0m\u001b[31m\n",
            "\u001b[0m"
          ]
        }
      ],
      "source": [
        "!pip install --upgrade matplotlib > None # need refresh enviroment after installation"
      ]
    },
    {
      "cell_type": "code",
      "source": [
        "!pip install basemap > None"
      ],
      "metadata": {
        "id": "pbAvt4GPzzX9"
      },
      "execution_count": null,
      "outputs": []
    },
    {
      "cell_type": "code",
      "source": [
        "import warnings\n",
        "warnings.filterwarnings('ignore')\n",
        "\n",
        "import numpy as np\n",
        "import pandas as pd\n",
        "\n",
        "import seaborn as sns\n",
        "from matplotlib import pyplot as plt\n",
        "from sklearn.preprocessing import StandardScaler\n",
        "from sklearn.metrics import mean_squared_error\n",
        "from sklearn.model_selection import train_test_split, StratifiedKFold, GridSearchCV\n",
        "from sklearn.pipeline import Pipeline\n",
        "from sklearn.ensemble import RandomForestRegressor\n",
        "from sklearn.inspection import permutation_importance\n",
        "\n",
        "%matplotlib inline"
      ],
      "metadata": {
        "id": "ZaYSNIMkz1NE"
      },
      "execution_count": 22,
      "outputs": []
    },
    {
      "cell_type": "markdown",
      "source": [
        "### **Подготовительный этап (взят с первого дз)**"
      ],
      "metadata": {
        "id": "tBQwOTKv4SVk"
      }
    },
    {
      "cell_type": "code",
      "source": [
        "path = 'dataset_model.csv'\n",
        "df = pd.read_csv(path, index_col='Unnamed: 0') # загружаем датасет"
      ],
      "metadata": {
        "id": "52m3ETqM358v"
      },
      "execution_count": 2,
      "outputs": []
    },
    {
      "cell_type": "code",
      "source": [
        "df.head()"
      ],
      "metadata": {
        "colab": {
          "base_uri": "https://localhost:8080/",
          "height": 255
        },
        "id": "QxPgnSUe4AYM",
        "outputId": "f320eda4-21af-4e81-a00f-c6ef248f3a80"
      },
      "execution_count": 3,
      "outputs": [
        {
          "output_type": "execute_result",
          "data": {
            "text/plain": [
              "   y_0         y_1         y_2         y_3         y_4         y_5  \\\n",
              "0  0.0  103.470474  169.841497  202.634886  217.431860  223.846126   \n",
              "1  0.0   47.284430   89.774170  113.979345  122.004075  120.914403   \n",
              "2  0.0   12.003113   22.219190   29.660820   34.898547   38.553882   \n",
              "3  0.0    5.945856   13.330533   19.974172   25.229365   29.101800   \n",
              "4  0.0   61.878596  110.339668  142.663314  163.015963  175.527032   \n",
              "\n",
              "          y_6         y_7         y_8         y_9  ...        y_15  \\\n",
              "0  226.572989  227.720839  228.201543  228.402313  ...  228.545105   \n",
              "1  116.870131  113.302064  111.296707  110.649611  ...  111.610162   \n",
              "2   41.099383   42.871039   44.103927   44.961858  ...   46.701930   \n",
              "3   31.827782   33.685357   34.920257   35.725122  ...   37.019445   \n",
              "4  183.136670  187.742940  190.525090  192.203788  ...  194.631042   \n",
              "\n",
              "         y_16        y_17        y_18        y_19        a1        a2  \\\n",
              "0  228.545542  228.545724  228.545800  228.545832  4.768043  4.528949   \n",
              "1  111.580655  111.555527  111.541783  111.537599  2.332872  1.885917   \n",
              "2   46.769713   46.816880   46.849702   46.872541  2.255614  3.962950   \n",
              "3   37.047172   37.063602   37.073242   37.078841  1.005294  1.969880   \n",
              "4  194.679661  194.708971  194.726642  194.737294  2.334700  3.389631   \n",
              "\n",
              "         b1        b2          u  \n",
              "0  4.114231  4.197650  47.730118  \n",
              "1  2.314809  3.828850  31.755654  \n",
              "2  2.019615  2.178595  10.395001  \n",
              "3  1.180354  3.752236   6.134611  \n",
              "4  3.470272  1.687632  33.804580  \n",
              "\n",
              "[5 rows x 25 columns]"
            ],
            "text/html": [
              "\n",
              "  <div id=\"df-4fde605f-bad0-416b-b989-9b39efecc13e\" class=\"colab-df-container\">\n",
              "    <div>\n",
              "<style scoped>\n",
              "    .dataframe tbody tr th:only-of-type {\n",
              "        vertical-align: middle;\n",
              "    }\n",
              "\n",
              "    .dataframe tbody tr th {\n",
              "        vertical-align: top;\n",
              "    }\n",
              "\n",
              "    .dataframe thead th {\n",
              "        text-align: right;\n",
              "    }\n",
              "</style>\n",
              "<table border=\"1\" class=\"dataframe\">\n",
              "  <thead>\n",
              "    <tr style=\"text-align: right;\">\n",
              "      <th></th>\n",
              "      <th>y_0</th>\n",
              "      <th>y_1</th>\n",
              "      <th>y_2</th>\n",
              "      <th>y_3</th>\n",
              "      <th>y_4</th>\n",
              "      <th>y_5</th>\n",
              "      <th>y_6</th>\n",
              "      <th>y_7</th>\n",
              "      <th>y_8</th>\n",
              "      <th>y_9</th>\n",
              "      <th>...</th>\n",
              "      <th>y_15</th>\n",
              "      <th>y_16</th>\n",
              "      <th>y_17</th>\n",
              "      <th>y_18</th>\n",
              "      <th>y_19</th>\n",
              "      <th>a1</th>\n",
              "      <th>a2</th>\n",
              "      <th>b1</th>\n",
              "      <th>b2</th>\n",
              "      <th>u</th>\n",
              "    </tr>\n",
              "  </thead>\n",
              "  <tbody>\n",
              "    <tr>\n",
              "      <th>0</th>\n",
              "      <td>0.0</td>\n",
              "      <td>103.470474</td>\n",
              "      <td>169.841497</td>\n",
              "      <td>202.634886</td>\n",
              "      <td>217.431860</td>\n",
              "      <td>223.846126</td>\n",
              "      <td>226.572989</td>\n",
              "      <td>227.720839</td>\n",
              "      <td>228.201543</td>\n",
              "      <td>228.402313</td>\n",
              "      <td>...</td>\n",
              "      <td>228.545105</td>\n",
              "      <td>228.545542</td>\n",
              "      <td>228.545724</td>\n",
              "      <td>228.545800</td>\n",
              "      <td>228.545832</td>\n",
              "      <td>4.768043</td>\n",
              "      <td>4.528949</td>\n",
              "      <td>4.114231</td>\n",
              "      <td>4.197650</td>\n",
              "      <td>47.730118</td>\n",
              "    </tr>\n",
              "    <tr>\n",
              "      <th>1</th>\n",
              "      <td>0.0</td>\n",
              "      <td>47.284430</td>\n",
              "      <td>89.774170</td>\n",
              "      <td>113.979345</td>\n",
              "      <td>122.004075</td>\n",
              "      <td>120.914403</td>\n",
              "      <td>116.870131</td>\n",
              "      <td>113.302064</td>\n",
              "      <td>111.296707</td>\n",
              "      <td>110.649611</td>\n",
              "      <td>...</td>\n",
              "      <td>111.610162</td>\n",
              "      <td>111.580655</td>\n",
              "      <td>111.555527</td>\n",
              "      <td>111.541783</td>\n",
              "      <td>111.537599</td>\n",
              "      <td>2.332872</td>\n",
              "      <td>1.885917</td>\n",
              "      <td>2.314809</td>\n",
              "      <td>3.828850</td>\n",
              "      <td>31.755654</td>\n",
              "    </tr>\n",
              "    <tr>\n",
              "      <th>2</th>\n",
              "      <td>0.0</td>\n",
              "      <td>12.003113</td>\n",
              "      <td>22.219190</td>\n",
              "      <td>29.660820</td>\n",
              "      <td>34.898547</td>\n",
              "      <td>38.553882</td>\n",
              "      <td>41.099383</td>\n",
              "      <td>42.871039</td>\n",
              "      <td>44.103927</td>\n",
              "      <td>44.961858</td>\n",
              "      <td>...</td>\n",
              "      <td>46.701930</td>\n",
              "      <td>46.769713</td>\n",
              "      <td>46.816880</td>\n",
              "      <td>46.849702</td>\n",
              "      <td>46.872541</td>\n",
              "      <td>2.255614</td>\n",
              "      <td>3.962950</td>\n",
              "      <td>2.019615</td>\n",
              "      <td>2.178595</td>\n",
              "      <td>10.395001</td>\n",
              "    </tr>\n",
              "    <tr>\n",
              "      <th>3</th>\n",
              "      <td>0.0</td>\n",
              "      <td>5.945856</td>\n",
              "      <td>13.330533</td>\n",
              "      <td>19.974172</td>\n",
              "      <td>25.229365</td>\n",
              "      <td>29.101800</td>\n",
              "      <td>31.827782</td>\n",
              "      <td>33.685357</td>\n",
              "      <td>34.920257</td>\n",
              "      <td>35.725122</td>\n",
              "      <td>...</td>\n",
              "      <td>37.019445</td>\n",
              "      <td>37.047172</td>\n",
              "      <td>37.063602</td>\n",
              "      <td>37.073242</td>\n",
              "      <td>37.078841</td>\n",
              "      <td>1.005294</td>\n",
              "      <td>1.969880</td>\n",
              "      <td>1.180354</td>\n",
              "      <td>3.752236</td>\n",
              "      <td>6.134611</td>\n",
              "    </tr>\n",
              "    <tr>\n",
              "      <th>4</th>\n",
              "      <td>0.0</td>\n",
              "      <td>61.878596</td>\n",
              "      <td>110.339668</td>\n",
              "      <td>142.663314</td>\n",
              "      <td>163.015963</td>\n",
              "      <td>175.527032</td>\n",
              "      <td>183.136670</td>\n",
              "      <td>187.742940</td>\n",
              "      <td>190.525090</td>\n",
              "      <td>192.203788</td>\n",
              "      <td>...</td>\n",
              "      <td>194.631042</td>\n",
              "      <td>194.679661</td>\n",
              "      <td>194.708971</td>\n",
              "      <td>194.726642</td>\n",
              "      <td>194.737294</td>\n",
              "      <td>2.334700</td>\n",
              "      <td>3.389631</td>\n",
              "      <td>3.470272</td>\n",
              "      <td>1.687632</td>\n",
              "      <td>33.804580</td>\n",
              "    </tr>\n",
              "  </tbody>\n",
              "</table>\n",
              "<p>5 rows × 25 columns</p>\n",
              "</div>\n",
              "    <div class=\"colab-df-buttons\">\n",
              "\n",
              "  <div class=\"colab-df-container\">\n",
              "    <button class=\"colab-df-convert\" onclick=\"convertToInteractive('df-4fde605f-bad0-416b-b989-9b39efecc13e')\"\n",
              "            title=\"Convert this dataframe to an interactive table.\"\n",
              "            style=\"display:none;\">\n",
              "\n",
              "  <svg xmlns=\"http://www.w3.org/2000/svg\" height=\"24px\" viewBox=\"0 -960 960 960\">\n",
              "    <path d=\"M120-120v-720h720v720H120Zm60-500h600v-160H180v160Zm220 220h160v-160H400v160Zm0 220h160v-160H400v160ZM180-400h160v-160H180v160Zm440 0h160v-160H620v160ZM180-180h160v-160H180v160Zm440 0h160v-160H620v160Z\"/>\n",
              "  </svg>\n",
              "    </button>\n",
              "\n",
              "  <style>\n",
              "    .colab-df-container {\n",
              "      display:flex;\n",
              "      gap: 12px;\n",
              "    }\n",
              "\n",
              "    .colab-df-convert {\n",
              "      background-color: #E8F0FE;\n",
              "      border: none;\n",
              "      border-radius: 50%;\n",
              "      cursor: pointer;\n",
              "      display: none;\n",
              "      fill: #1967D2;\n",
              "      height: 32px;\n",
              "      padding: 0 0 0 0;\n",
              "      width: 32px;\n",
              "    }\n",
              "\n",
              "    .colab-df-convert:hover {\n",
              "      background-color: #E2EBFA;\n",
              "      box-shadow: 0px 1px 2px rgba(60, 64, 67, 0.3), 0px 1px 3px 1px rgba(60, 64, 67, 0.15);\n",
              "      fill: #174EA6;\n",
              "    }\n",
              "\n",
              "    .colab-df-buttons div {\n",
              "      margin-bottom: 4px;\n",
              "    }\n",
              "\n",
              "    [theme=dark] .colab-df-convert {\n",
              "      background-color: #3B4455;\n",
              "      fill: #D2E3FC;\n",
              "    }\n",
              "\n",
              "    [theme=dark] .colab-df-convert:hover {\n",
              "      background-color: #434B5C;\n",
              "      box-shadow: 0px 1px 3px 1px rgba(0, 0, 0, 0.15);\n",
              "      filter: drop-shadow(0px 1px 2px rgba(0, 0, 0, 0.3));\n",
              "      fill: #FFFFFF;\n",
              "    }\n",
              "  </style>\n",
              "\n",
              "    <script>\n",
              "      const buttonEl =\n",
              "        document.querySelector('#df-4fde605f-bad0-416b-b989-9b39efecc13e button.colab-df-convert');\n",
              "      buttonEl.style.display =\n",
              "        google.colab.kernel.accessAllowed ? 'block' : 'none';\n",
              "\n",
              "      async function convertToInteractive(key) {\n",
              "        const element = document.querySelector('#df-4fde605f-bad0-416b-b989-9b39efecc13e');\n",
              "        const dataTable =\n",
              "          await google.colab.kernel.invokeFunction('convertToInteractive',\n",
              "                                                    [key], {});\n",
              "        if (!dataTable) return;\n",
              "\n",
              "        const docLinkHtml = 'Like what you see? Visit the ' +\n",
              "          '<a target=\"_blank\" href=https://colab.research.google.com/notebooks/data_table.ipynb>data table notebook</a>'\n",
              "          + ' to learn more about interactive tables.';\n",
              "        element.innerHTML = '';\n",
              "        dataTable['output_type'] = 'display_data';\n",
              "        await google.colab.output.renderOutput(dataTable, element);\n",
              "        const docLink = document.createElement('div');\n",
              "        docLink.innerHTML = docLinkHtml;\n",
              "        element.appendChild(docLink);\n",
              "      }\n",
              "    </script>\n",
              "  </div>\n",
              "\n",
              "\n",
              "<div id=\"df-16f6f59b-8090-4cbe-a2da-210f76ada197\">\n",
              "  <button class=\"colab-df-quickchart\" onclick=\"quickchart('df-16f6f59b-8090-4cbe-a2da-210f76ada197')\"\n",
              "            title=\"Suggest charts\"\n",
              "            style=\"display:none;\">\n",
              "\n",
              "<svg xmlns=\"http://www.w3.org/2000/svg\" height=\"24px\"viewBox=\"0 0 24 24\"\n",
              "     width=\"24px\">\n",
              "    <g>\n",
              "        <path d=\"M19 3H5c-1.1 0-2 .9-2 2v14c0 1.1.9 2 2 2h14c1.1 0 2-.9 2-2V5c0-1.1-.9-2-2-2zM9 17H7v-7h2v7zm4 0h-2V7h2v10zm4 0h-2v-4h2v4z\"/>\n",
              "    </g>\n",
              "</svg>\n",
              "  </button>\n",
              "\n",
              "<style>\n",
              "  .colab-df-quickchart {\n",
              "      --bg-color: #E8F0FE;\n",
              "      --fill-color: #1967D2;\n",
              "      --hover-bg-color: #E2EBFA;\n",
              "      --hover-fill-color: #174EA6;\n",
              "      --disabled-fill-color: #AAA;\n",
              "      --disabled-bg-color: #DDD;\n",
              "  }\n",
              "\n",
              "  [theme=dark] .colab-df-quickchart {\n",
              "      --bg-color: #3B4455;\n",
              "      --fill-color: #D2E3FC;\n",
              "      --hover-bg-color: #434B5C;\n",
              "      --hover-fill-color: #FFFFFF;\n",
              "      --disabled-bg-color: #3B4455;\n",
              "      --disabled-fill-color: #666;\n",
              "  }\n",
              "\n",
              "  .colab-df-quickchart {\n",
              "    background-color: var(--bg-color);\n",
              "    border: none;\n",
              "    border-radius: 50%;\n",
              "    cursor: pointer;\n",
              "    display: none;\n",
              "    fill: var(--fill-color);\n",
              "    height: 32px;\n",
              "    padding: 0;\n",
              "    width: 32px;\n",
              "  }\n",
              "\n",
              "  .colab-df-quickchart:hover {\n",
              "    background-color: var(--hover-bg-color);\n",
              "    box-shadow: 0 1px 2px rgba(60, 64, 67, 0.3), 0 1px 3px 1px rgba(60, 64, 67, 0.15);\n",
              "    fill: var(--button-hover-fill-color);\n",
              "  }\n",
              "\n",
              "  .colab-df-quickchart-complete:disabled,\n",
              "  .colab-df-quickchart-complete:disabled:hover {\n",
              "    background-color: var(--disabled-bg-color);\n",
              "    fill: var(--disabled-fill-color);\n",
              "    box-shadow: none;\n",
              "  }\n",
              "\n",
              "  .colab-df-spinner {\n",
              "    border: 2px solid var(--fill-color);\n",
              "    border-color: transparent;\n",
              "    border-bottom-color: var(--fill-color);\n",
              "    animation:\n",
              "      spin 1s steps(1) infinite;\n",
              "  }\n",
              "\n",
              "  @keyframes spin {\n",
              "    0% {\n",
              "      border-color: transparent;\n",
              "      border-bottom-color: var(--fill-color);\n",
              "      border-left-color: var(--fill-color);\n",
              "    }\n",
              "    20% {\n",
              "      border-color: transparent;\n",
              "      border-left-color: var(--fill-color);\n",
              "      border-top-color: var(--fill-color);\n",
              "    }\n",
              "    30% {\n",
              "      border-color: transparent;\n",
              "      border-left-color: var(--fill-color);\n",
              "      border-top-color: var(--fill-color);\n",
              "      border-right-color: var(--fill-color);\n",
              "    }\n",
              "    40% {\n",
              "      border-color: transparent;\n",
              "      border-right-color: var(--fill-color);\n",
              "      border-top-color: var(--fill-color);\n",
              "    }\n",
              "    60% {\n",
              "      border-color: transparent;\n",
              "      border-right-color: var(--fill-color);\n",
              "    }\n",
              "    80% {\n",
              "      border-color: transparent;\n",
              "      border-right-color: var(--fill-color);\n",
              "      border-bottom-color: var(--fill-color);\n",
              "    }\n",
              "    90% {\n",
              "      border-color: transparent;\n",
              "      border-bottom-color: var(--fill-color);\n",
              "    }\n",
              "  }\n",
              "</style>\n",
              "\n",
              "  <script>\n",
              "    async function quickchart(key) {\n",
              "      const quickchartButtonEl =\n",
              "        document.querySelector('#' + key + ' button');\n",
              "      quickchartButtonEl.disabled = true;  // To prevent multiple clicks.\n",
              "      quickchartButtonEl.classList.add('colab-df-spinner');\n",
              "      try {\n",
              "        const charts = await google.colab.kernel.invokeFunction(\n",
              "            'suggestCharts', [key], {});\n",
              "      } catch (error) {\n",
              "        console.error('Error during call to suggestCharts:', error);\n",
              "      }\n",
              "      quickchartButtonEl.classList.remove('colab-df-spinner');\n",
              "      quickchartButtonEl.classList.add('colab-df-quickchart-complete');\n",
              "    }\n",
              "    (() => {\n",
              "      let quickchartButtonEl =\n",
              "        document.querySelector('#df-16f6f59b-8090-4cbe-a2da-210f76ada197 button');\n",
              "      quickchartButtonEl.style.display =\n",
              "        google.colab.kernel.accessAllowed ? 'block' : 'none';\n",
              "    })();\n",
              "  </script>\n",
              "</div>\n",
              "    </div>\n",
              "  </div>\n"
            ],
            "application/vnd.google.colaboratory.intrinsic+json": {
              "type": "dataframe",
              "variable_name": "df"
            }
          },
          "metadata": {},
          "execution_count": 3
        }
      ]
    },
    {
      "cell_type": "code",
      "source": [
        "# Деление датасета на части\n",
        "out_signal = df[['y_1', 'y_3', 'y_16','u']] # Значения выходного сигнала. Для каждого эксперимента снято по 20 точек\n",
        "input_signal = df[['u']] # Значения входного сигнала.\n",
        "coefficients = df[['a1', 'a2', 'b1', 'b2']] # Коэффициенты модели"
      ],
      "metadata": {
        "id": "bsgcKhSv4cxI"
      },
      "execution_count": 4,
      "outputs": []
    },
    {
      "cell_type": "code",
      "source": [
        "scaler = StandardScaler()\n",
        "X_array = scaler.fit_transform(out_signal)\n",
        "y_array = df[['a1', 'a2', 'b1', 'b2']]\n",
        "X_array.shape, y_array.shape"
      ],
      "metadata": {
        "id": "yhRVMFTx4k4O",
        "colab": {
          "base_uri": "https://localhost:8080/"
        },
        "outputId": "b886f8dc-ca82-4680-8689-0bb303bc0d70"
      },
      "execution_count": 5,
      "outputs": [
        {
          "output_type": "execute_result",
          "data": {
            "text/plain": [
              "((300, 4), (300, 4))"
            ]
          },
          "metadata": {},
          "execution_count": 5
        }
      ]
    },
    {
      "cell_type": "code",
      "source": [
        "X_array = pd.DataFrame(X_array, columns=['y_1', 'y_3', 'y_16','u'])\n",
        "type(X_array), X_array.shape"
      ],
      "metadata": {
        "colab": {
          "base_uri": "https://localhost:8080/"
        },
        "id": "8OoNGsh7Zd02",
        "outputId": "1e1f33ab-6270-4cd8-aac0-6e120191a021"
      },
      "execution_count": 6,
      "outputs": [
        {
          "output_type": "execute_result",
          "data": {
            "text/plain": [
              "(pandas.core.frame.DataFrame, (300, 4))"
            ]
          },
          "metadata": {},
          "execution_count": 6
        }
      ]
    },
    {
      "cell_type": "markdown",
      "source": [
        "Проведем разбиение на обучающую (75%) и тестовую (25%) выборки при помощи train_test_split:"
      ],
      "metadata": {
        "id": "qZdsOc5S4uyN"
      }
    },
    {
      "cell_type": "code",
      "source": [
        "X_array_train, X_array_test, Y_array_train, Y_array_test = train_test_split(X_array, y_array, test_size=0.25, random_state=0)\n",
        "X_array_train.shape, X_array_test.shape, Y_array_train.shape, Y_array_test.shape # Проверка, что все поделилось 75/25"
      ],
      "metadata": {
        "colab": {
          "base_uri": "https://localhost:8080/"
        },
        "id": "xk9BUEA249QN",
        "outputId": "e15dcfe5-a152-45b8-b03e-c05e0b7103c3"
      },
      "execution_count": 7,
      "outputs": [
        {
          "output_type": "execute_result",
          "data": {
            "text/plain": [
              "((225, 4), (75, 4), (225, 4), (75, 4))"
            ]
          },
          "metadata": {},
          "execution_count": 7
        }
      ]
    },
    {
      "cell_type": "code",
      "source": [
        "type(X_array_train)"
      ],
      "metadata": {
        "colab": {
          "base_uri": "https://localhost:8080/",
          "height": 203
        },
        "id": "8N9VaSymX8Nc",
        "outputId": "d7587603-df29-4fc4-d262-23d2e06f3d24"
      },
      "execution_count": 8,
      "outputs": [
        {
          "output_type": "execute_result",
          "data": {
            "text/plain": [
              "pandas.core.frame.DataFrame"
            ],
            "text/html": [
              "<div style=\"max-width:800px; border: 1px solid var(--colab-border-color);\"><style>\n",
              "      pre.function-repr-contents {\n",
              "        overflow-x: auto;\n",
              "        padding: 8px 12px;\n",
              "        max-height: 500px;\n",
              "      }\n",
              "\n",
              "      pre.function-repr-contents.function-repr-contents-collapsed {\n",
              "        cursor: pointer;\n",
              "        max-height: 100px;\n",
              "      }\n",
              "    </style>\n",
              "    <pre style=\"white-space: initial; background:\n",
              "         var(--colab-secondary-surface-color); padding: 8px 12px;\n",
              "         border-bottom: 1px solid var(--colab-border-color);\"><b>pandas.core.frame.DataFrame</b><br/>def __init__(data=None, index: Axes | None=None, columns: Axes | None=None, dtype: Dtype | None=None, copy: bool | None=None) -&gt; None</pre><pre class=\"function-repr-contents function-repr-contents-collapsed\" style=\"\"><a class=\"filepath\" style=\"display:none\" href=\"#\">/usr/local/lib/python3.10/dist-packages/pandas/core/frame.py</a>Two-dimensional, size-mutable, potentially heterogeneous tabular data.\n",
              "\n",
              "Data structure also contains labeled axes (rows and columns).\n",
              "Arithmetic operations align on both row and column labels. Can be\n",
              "thought of as a dict-like container for Series objects. The primary\n",
              "pandas data structure.\n",
              "\n",
              "Parameters\n",
              "----------\n",
              "data : ndarray (structured or homogeneous), Iterable, dict, or DataFrame\n",
              "    Dict can contain Series, arrays, constants, dataclass or list-like objects. If\n",
              "    data is a dict, column order follows insertion-order. If a dict contains Series\n",
              "    which have an index defined, it is aligned by its index.\n",
              "\n",
              "    .. versionchanged:: 0.25.0\n",
              "       If data is a list of dicts, column order follows insertion-order.\n",
              "\n",
              "index : Index or array-like\n",
              "    Index to use for resulting frame. Will default to RangeIndex if\n",
              "    no indexing information part of input data and no index provided.\n",
              "columns : Index or array-like\n",
              "    Column labels to use for resulting frame when data does not have them,\n",
              "    defaulting to RangeIndex(0, 1, 2, ..., n). If data contains column labels,\n",
              "    will perform column selection instead.\n",
              "dtype : dtype, default None\n",
              "    Data type to force. Only a single dtype is allowed. If None, infer.\n",
              "copy : bool or None, default None\n",
              "    Copy data from inputs.\n",
              "    For dict data, the default of None behaves like ``copy=True``.  For DataFrame\n",
              "    or 2d ndarray input, the default of None behaves like ``copy=False``.\n",
              "    If data is a dict containing one or more Series (possibly of different dtypes),\n",
              "    ``copy=False`` will ensure that these inputs are not copied.\n",
              "\n",
              "    .. versionchanged:: 1.3.0\n",
              "\n",
              "See Also\n",
              "--------\n",
              "DataFrame.from_records : Constructor from tuples, also record arrays.\n",
              "DataFrame.from_dict : From dicts of Series, arrays, or dicts.\n",
              "read_csv : Read a comma-separated values (csv) file into DataFrame.\n",
              "read_table : Read general delimited file into DataFrame.\n",
              "read_clipboard : Read text from clipboard into DataFrame.\n",
              "\n",
              "Notes\n",
              "-----\n",
              "Please reference the :ref:`User Guide &lt;basics.dataframe&gt;` for more information.\n",
              "\n",
              "Examples\n",
              "--------\n",
              "Constructing DataFrame from a dictionary.\n",
              "\n",
              "&gt;&gt;&gt; d = {&#x27;col1&#x27;: [1, 2], &#x27;col2&#x27;: [3, 4]}\n",
              "&gt;&gt;&gt; df = pd.DataFrame(data=d)\n",
              "&gt;&gt;&gt; df\n",
              "   col1  col2\n",
              "0     1     3\n",
              "1     2     4\n",
              "\n",
              "Notice that the inferred dtype is int64.\n",
              "\n",
              "&gt;&gt;&gt; df.dtypes\n",
              "col1    int64\n",
              "col2    int64\n",
              "dtype: object\n",
              "\n",
              "To enforce a single dtype:\n",
              "\n",
              "&gt;&gt;&gt; df = pd.DataFrame(data=d, dtype=np.int8)\n",
              "&gt;&gt;&gt; df.dtypes\n",
              "col1    int8\n",
              "col2    int8\n",
              "dtype: object\n",
              "\n",
              "Constructing DataFrame from a dictionary including Series:\n",
              "\n",
              "&gt;&gt;&gt; d = {&#x27;col1&#x27;: [0, 1, 2, 3], &#x27;col2&#x27;: pd.Series([2, 3], index=[2, 3])}\n",
              "&gt;&gt;&gt; pd.DataFrame(data=d, index=[0, 1, 2, 3])\n",
              "   col1  col2\n",
              "0     0   NaN\n",
              "1     1   NaN\n",
              "2     2   2.0\n",
              "3     3   3.0\n",
              "\n",
              "Constructing DataFrame from numpy ndarray:\n",
              "\n",
              "&gt;&gt;&gt; df2 = pd.DataFrame(np.array([[1, 2, 3], [4, 5, 6], [7, 8, 9]]),\n",
              "...                    columns=[&#x27;a&#x27;, &#x27;b&#x27;, &#x27;c&#x27;])\n",
              "&gt;&gt;&gt; df2\n",
              "   a  b  c\n",
              "0  1  2  3\n",
              "1  4  5  6\n",
              "2  7  8  9\n",
              "\n",
              "Constructing DataFrame from a numpy ndarray that has labeled columns:\n",
              "\n",
              "&gt;&gt;&gt; data = np.array([(1, 2, 3), (4, 5, 6), (7, 8, 9)],\n",
              "...                 dtype=[(&quot;a&quot;, &quot;i4&quot;), (&quot;b&quot;, &quot;i4&quot;), (&quot;c&quot;, &quot;i4&quot;)])\n",
              "&gt;&gt;&gt; df3 = pd.DataFrame(data, columns=[&#x27;c&#x27;, &#x27;a&#x27;])\n",
              "...\n",
              "&gt;&gt;&gt; df3\n",
              "   c  a\n",
              "0  3  1\n",
              "1  6  4\n",
              "2  9  7\n",
              "\n",
              "Constructing DataFrame from dataclass:\n",
              "\n",
              "&gt;&gt;&gt; from dataclasses import make_dataclass\n",
              "&gt;&gt;&gt; Point = make_dataclass(&quot;Point&quot;, [(&quot;x&quot;, int), (&quot;y&quot;, int)])\n",
              "&gt;&gt;&gt; pd.DataFrame([Point(0, 0), Point(0, 3), Point(2, 3)])\n",
              "   x  y\n",
              "0  0  0\n",
              "1  0  3\n",
              "2  2  3</pre>\n",
              "      <script>\n",
              "      if (google.colab.kernel.accessAllowed && google.colab.files && google.colab.files.view) {\n",
              "        for (const element of document.querySelectorAll('.filepath')) {\n",
              "          element.style.display = 'block'\n",
              "          element.onclick = (event) => {\n",
              "            event.preventDefault();\n",
              "            event.stopPropagation();\n",
              "            google.colab.files.view(element.textContent, 475);\n",
              "          };\n",
              "        }\n",
              "      }\n",
              "      for (const element of document.querySelectorAll('.function-repr-contents')) {\n",
              "        element.onclick = (event) => {\n",
              "          event.preventDefault();\n",
              "          event.stopPropagation();\n",
              "          element.classList.toggle('function-repr-contents-collapsed');\n",
              "        };\n",
              "      }\n",
              "      </script>\n",
              "      </div>"
            ]
          },
          "metadata": {},
          "execution_count": 8
        }
      ]
    },
    {
      "cell_type": "markdown",
      "source": [
        "# **1. Построить более сложную модель с подбором гиперпараметров**"
      ],
      "metadata": {
        "id": "Ch0BOHet0GTt"
      }
    },
    {
      "cell_type": "markdown",
      "source": [
        "### **Подбор и оптимизация гиперпараметров с использованием кросс-валидации. Grid Search**"
      ],
      "metadata": {
        "id": "H3DuDO5QTLcG"
      }
    },
    {
      "cell_type": "code",
      "source": [
        "regr = Pipeline([(\"scaler\", StandardScaler()), (\"reg\", RandomForestRegressor(random_state=0)),])"
      ],
      "metadata": {
        "id": "yFUN-5_dNyQs"
      },
      "execution_count": 9,
      "outputs": []
    },
    {
      "cell_type": "code",
      "source": [
        "parameters = {\n",
        "    'reg__n_estimators': range(100, 1100, 100), # Задали произвольно\n",
        "    'reg__max_depth': range(1, 30, 5), # Задали произвольно\n",
        "}\n",
        "\n",
        "gridregr = GridSearchCV(regr, parameters, cv=5)\n",
        "gridregr.fit(X_array_train, Y_array_train)"
      ],
      "metadata": {
        "colab": {
          "base_uri": "https://localhost:8080/",
          "height": 151
        },
        "id": "IiIWm6oGGaqZ",
        "outputId": "f7eb4bbb-1417-431b-eb09-cc2efd4af359"
      },
      "execution_count": 10,
      "outputs": [
        {
          "output_type": "execute_result",
          "data": {
            "text/plain": [
              "GridSearchCV(cv=5,\n",
              "             estimator=Pipeline(steps=[('scaler', StandardScaler()),\n",
              "                                       ('reg',\n",
              "                                        RandomForestRegressor(random_state=0))]),\n",
              "             param_grid={'reg__max_depth': range(1, 30, 5),\n",
              "                         'reg__n_estimators': range(100, 1100, 100)})"
            ],
            "text/html": [
              "<style>#sk-container-id-1 {color: black;background-color: white;}#sk-container-id-1 pre{padding: 0;}#sk-container-id-1 div.sk-toggleable {background-color: white;}#sk-container-id-1 label.sk-toggleable__label {cursor: pointer;display: block;width: 100%;margin-bottom: 0;padding: 0.3em;box-sizing: border-box;text-align: center;}#sk-container-id-1 label.sk-toggleable__label-arrow:before {content: \"▸\";float: left;margin-right: 0.25em;color: #696969;}#sk-container-id-1 label.sk-toggleable__label-arrow:hover:before {color: black;}#sk-container-id-1 div.sk-estimator:hover label.sk-toggleable__label-arrow:before {color: black;}#sk-container-id-1 div.sk-toggleable__content {max-height: 0;max-width: 0;overflow: hidden;text-align: left;background-color: #f0f8ff;}#sk-container-id-1 div.sk-toggleable__content pre {margin: 0.2em;color: black;border-radius: 0.25em;background-color: #f0f8ff;}#sk-container-id-1 input.sk-toggleable__control:checked~div.sk-toggleable__content {max-height: 200px;max-width: 100%;overflow: auto;}#sk-container-id-1 input.sk-toggleable__control:checked~label.sk-toggleable__label-arrow:before {content: \"▾\";}#sk-container-id-1 div.sk-estimator input.sk-toggleable__control:checked~label.sk-toggleable__label {background-color: #d4ebff;}#sk-container-id-1 div.sk-label input.sk-toggleable__control:checked~label.sk-toggleable__label {background-color: #d4ebff;}#sk-container-id-1 input.sk-hidden--visually {border: 0;clip: rect(1px 1px 1px 1px);clip: rect(1px, 1px, 1px, 1px);height: 1px;margin: -1px;overflow: hidden;padding: 0;position: absolute;width: 1px;}#sk-container-id-1 div.sk-estimator {font-family: monospace;background-color: #f0f8ff;border: 1px dotted black;border-radius: 0.25em;box-sizing: border-box;margin-bottom: 0.5em;}#sk-container-id-1 div.sk-estimator:hover {background-color: #d4ebff;}#sk-container-id-1 div.sk-parallel-item::after {content: \"\";width: 100%;border-bottom: 1px solid gray;flex-grow: 1;}#sk-container-id-1 div.sk-label:hover label.sk-toggleable__label {background-color: #d4ebff;}#sk-container-id-1 div.sk-serial::before {content: \"\";position: absolute;border-left: 1px solid gray;box-sizing: border-box;top: 0;bottom: 0;left: 50%;z-index: 0;}#sk-container-id-1 div.sk-serial {display: flex;flex-direction: column;align-items: center;background-color: white;padding-right: 0.2em;padding-left: 0.2em;position: relative;}#sk-container-id-1 div.sk-item {position: relative;z-index: 1;}#sk-container-id-1 div.sk-parallel {display: flex;align-items: stretch;justify-content: center;background-color: white;position: relative;}#sk-container-id-1 div.sk-item::before, #sk-container-id-1 div.sk-parallel-item::before {content: \"\";position: absolute;border-left: 1px solid gray;box-sizing: border-box;top: 0;bottom: 0;left: 50%;z-index: -1;}#sk-container-id-1 div.sk-parallel-item {display: flex;flex-direction: column;z-index: 1;position: relative;background-color: white;}#sk-container-id-1 div.sk-parallel-item:first-child::after {align-self: flex-end;width: 50%;}#sk-container-id-1 div.sk-parallel-item:last-child::after {align-self: flex-start;width: 50%;}#sk-container-id-1 div.sk-parallel-item:only-child::after {width: 0;}#sk-container-id-1 div.sk-dashed-wrapped {border: 1px dashed gray;margin: 0 0.4em 0.5em 0.4em;box-sizing: border-box;padding-bottom: 0.4em;background-color: white;}#sk-container-id-1 div.sk-label label {font-family: monospace;font-weight: bold;display: inline-block;line-height: 1.2em;}#sk-container-id-1 div.sk-label-container {text-align: center;}#sk-container-id-1 div.sk-container {/* jupyter's `normalize.less` sets `[hidden] { display: none; }` but bootstrap.min.css set `[hidden] { display: none !important; }` so we also need the `!important` here to be able to override the default hidden behavior on the sphinx rendered scikit-learn.org. See: https://github.com/scikit-learn/scikit-learn/issues/21755 */display: inline-block !important;position: relative;}#sk-container-id-1 div.sk-text-repr-fallback {display: none;}</style><div id=\"sk-container-id-1\" class=\"sk-top-container\"><div class=\"sk-text-repr-fallback\"><pre>GridSearchCV(cv=5,\n",
              "             estimator=Pipeline(steps=[(&#x27;scaler&#x27;, StandardScaler()),\n",
              "                                       (&#x27;reg&#x27;,\n",
              "                                        RandomForestRegressor(random_state=0))]),\n",
              "             param_grid={&#x27;reg__max_depth&#x27;: range(1, 30, 5),\n",
              "                         &#x27;reg__n_estimators&#x27;: range(100, 1100, 100)})</pre><b>In a Jupyter environment, please rerun this cell to show the HTML representation or trust the notebook. <br />On GitHub, the HTML representation is unable to render, please try loading this page with nbviewer.org.</b></div><div class=\"sk-container\" hidden><div class=\"sk-item sk-dashed-wrapped\"><div class=\"sk-label-container\"><div class=\"sk-label sk-toggleable\"><input class=\"sk-toggleable__control sk-hidden--visually\" id=\"sk-estimator-id-1\" type=\"checkbox\" ><label for=\"sk-estimator-id-1\" class=\"sk-toggleable__label sk-toggleable__label-arrow\">GridSearchCV</label><div class=\"sk-toggleable__content\"><pre>GridSearchCV(cv=5,\n",
              "             estimator=Pipeline(steps=[(&#x27;scaler&#x27;, StandardScaler()),\n",
              "                                       (&#x27;reg&#x27;,\n",
              "                                        RandomForestRegressor(random_state=0))]),\n",
              "             param_grid={&#x27;reg__max_depth&#x27;: range(1, 30, 5),\n",
              "                         &#x27;reg__n_estimators&#x27;: range(100, 1100, 100)})</pre></div></div></div><div class=\"sk-parallel\"><div class=\"sk-parallel-item\"><div class=\"sk-item\"><div class=\"sk-label-container\"><div class=\"sk-label sk-toggleable\"><input class=\"sk-toggleable__control sk-hidden--visually\" id=\"sk-estimator-id-2\" type=\"checkbox\" ><label for=\"sk-estimator-id-2\" class=\"sk-toggleable__label sk-toggleable__label-arrow\">estimator: Pipeline</label><div class=\"sk-toggleable__content\"><pre>Pipeline(steps=[(&#x27;scaler&#x27;, StandardScaler()),\n",
              "                (&#x27;reg&#x27;, RandomForestRegressor(random_state=0))])</pre></div></div></div><div class=\"sk-serial\"><div class=\"sk-item\"><div class=\"sk-serial\"><div class=\"sk-item\"><div class=\"sk-estimator sk-toggleable\"><input class=\"sk-toggleable__control sk-hidden--visually\" id=\"sk-estimator-id-3\" type=\"checkbox\" ><label for=\"sk-estimator-id-3\" class=\"sk-toggleable__label sk-toggleable__label-arrow\">StandardScaler</label><div class=\"sk-toggleable__content\"><pre>StandardScaler()</pre></div></div></div><div class=\"sk-item\"><div class=\"sk-estimator sk-toggleable\"><input class=\"sk-toggleable__control sk-hidden--visually\" id=\"sk-estimator-id-4\" type=\"checkbox\" ><label for=\"sk-estimator-id-4\" class=\"sk-toggleable__label sk-toggleable__label-arrow\">RandomForestRegressor</label><div class=\"sk-toggleable__content\"><pre>RandomForestRegressor(random_state=0)</pre></div></div></div></div></div></div></div></div></div></div></div></div>"
            ]
          },
          "metadata": {},
          "execution_count": 10
        }
      ]
    },
    {
      "cell_type": "code",
      "source": [
        "best_parameters = gridregr.best_estimator_.get_params()\n",
        "for param_name in sorted(parameters.keys()):\n",
        "    print(f\"{param_name}: {best_parameters[param_name]}\") #Смотрим, что подставить в параметры для обучения модели на гиперпараметрах"
      ],
      "metadata": {
        "colab": {
          "base_uri": "https://localhost:8080/"
        },
        "id": "cPDFtf-kB8Jq",
        "outputId": "8d474a88-af42-4886-9ada-667782638876"
      },
      "execution_count": 11,
      "outputs": [
        {
          "output_type": "stream",
          "name": "stdout",
          "text": [
            "reg__max_depth: 16\n",
            "reg__n_estimators: 500\n"
          ]
        }
      ]
    },
    {
      "cell_type": "code",
      "source": [
        "rf_reg = gridregr.best_estimator_\n",
        "predictions = rf_reg.predict(X_array_test)\n",
        "mean_squared_error(Y_array_test, predictions)"
      ],
      "metadata": {
        "id": "xpnMwdvTLEAX",
        "colab": {
          "base_uri": "https://localhost:8080/"
        },
        "outputId": "822b14b7-28e5-409e-c21b-be19898c6b78"
      },
      "execution_count": 13,
      "outputs": [
        {
          "output_type": "execute_result",
          "data": {
            "text/plain": [
              "0.8087057494389229"
            ]
          },
          "metadata": {},
          "execution_count": 13
        }
      ]
    },
    {
      "cell_type": "markdown",
      "source": [
        "# **2. Проинтерпретировать полученную модель**"
      ],
      "metadata": {
        "id": "1k14T3Qa1cEN"
      }
    },
    {
      "cell_type": "markdown",
      "source": [
        "В первом домашнем задании для обучения модели использовался метод Линейной регрессии.\n",
        "\n",
        "RMSE в том случае была равна 0.8035\n",
        "\n",
        "При использовании гиперпараметров и ансамблировании RMSE стала равна 0.8"
      ],
      "metadata": {
        "id": "4qLwPVUXLzzS"
      }
    },
    {
      "cell_type": "markdown",
      "source": [
        "Определим значимость признаков"
      ],
      "metadata": {
        "id": "Ez3hpBb0XFiu"
      }
    },
    {
      "cell_type": "code",
      "source": [
        "type(X_array)"
      ],
      "metadata": {
        "colab": {
          "base_uri": "https://localhost:8080/"
        },
        "id": "H9an--Q3ZOe7",
        "outputId": "1ad0e581-207e-426f-e4ea-c33b63de4c11"
      },
      "execution_count": 23,
      "outputs": [
        {
          "output_type": "execute_result",
          "data": {
            "text/plain": [
              "numpy.ndarray"
            ]
          },
          "metadata": {},
          "execution_count": 23
        }
      ]
    },
    {
      "cell_type": "code",
      "source": [
        "# Поиск наиболее важных признаков\n",
        "features = {}\n",
        "for i in range(len(X_array.columns)):\n",
        "    features[rf_reg.feature_names_in_[i]] = rf_reg._final_estimator.feature_importances_[i]"
      ],
      "metadata": {
        "id": "ayNKSWyW7lVr"
      },
      "execution_count": 16,
      "outputs": []
    },
    {
      "cell_type": "code",
      "source": [
        "features = sorted( features.items(), key=lambda pair: pair[1], reverse=True )[:20]\n",
        "features"
      ],
      "metadata": {
        "colab": {
          "base_uri": "https://localhost:8080/"
        },
        "id": "7kSunfIVdq3Q",
        "outputId": "ecaa8a05-c9c3-4016-9d33-715e016ed332"
      },
      "execution_count": 17,
      "outputs": [
        {
          "output_type": "execute_result",
          "data": {
            "text/plain": [
              "[('y_16', 0.3304308918689315),\n",
              " ('y_1', 0.27336777638022675),\n",
              " ('u', 0.24821136856630446),\n",
              " ('y_3', 0.14798996318453733)]"
            ]
          },
          "metadata": {},
          "execution_count": 17
        }
      ]
    },
    {
      "cell_type": "markdown",
      "source": [
        "Mean Decrease Impurity"
      ],
      "metadata": {
        "id": "7Z7A2z1FeB8G"
      }
    },
    {
      "cell_type": "code",
      "source": [
        "forest_importances = pd.Series(rf_reg._final_estimator.feature_importances_, index=X_array_train.columns)\n",
        "\n",
        "fig, ax = plt.subplots(figsize=(40, 5))\n",
        "std = np.std([tree.feature_importances_ for tree in rf_reg._final_estimator.estimators_], axis=0)\n",
        "forest_importances.plot.bar(yerr=std, ax=ax)\n",
        "ax.set_title(\"Feature importances using MDI\")\n",
        "ax.set_ylabel(\"Mean decrease in impurity\", )\n",
        "fig.tight_layout()"
      ],
      "metadata": {
        "colab": {
          "base_uri": "https://localhost:8080/",
          "height": 154
        },
        "id": "h_DPWXOkeDIJ",
        "outputId": "3a5f9228-3d94-42b6-d492-1d404aaca6af"
      },
      "execution_count": 18,
      "outputs": [
        {
          "output_type": "display_data",
          "data": {
            "text/plain": [
              "<Figure size 4000x500 with 1 Axes>"
            ],
            "image/png": "[encoded data removed]"
          },
          "metadata": {}
        }
      ]
    },
    {
      "cell_type": "markdown",
      "source": [
        "Permutation importances"
      ],
      "metadata": {
        "id": "DxjmzHTuegKP"
      }
    },
    {
      "cell_type": "code",
      "source": [
        "# Переставим признаки местами, чтобы проверить их важность\n",
        "\n",
        "importances = permutation_importance(rf_reg, X_array_train, Y_array_train, n_repeats=10, random_state=2023, n_jobs=2)\n",
        "forest_importances = pd.Series(importances.importances_mean, index=X_array_train.columns)\n",
        "\n",
        "fig, ax = plt.subplots(figsize=(40, 5))\n",
        "forest_importances.plot.bar(yerr=importances.importances_std, ax=ax)\n",
        "ax.set_title(\"Feature importances using permutation on full model\")\n",
        "ax.set_ylabel(\"Mean accuracy decrease\")\n",
        "fig.tight_layout()\n",
        "plt.show()"
      ],
      "metadata": {
        "colab": {
          "base_uri": "https://localhost:8080/",
          "height": 154
        },
        "id": "Yl9-dYmEefV9",
        "outputId": "4b911a17-e9ab-4235-d391-1729ee88a88a"
      },
      "execution_count": 20,
      "outputs": [
        {
          "output_type": "display_data",
          "data": {
            "text/plain": [
              "<Figure size 4000x500 with 1 Axes>"
            ],
            "image/png": "[encoded data removed]"
          },
          "metadata": {}
        }
      ]
    },
    {
      "cell_type": "markdown",
      "source": [
        "Результаты анализа признаков показали, что наиболее важными являются выходные сигналы установки в начале и конце временного интервала измерений. Промежуточные значения играют существенно мене важную роль. Также значмым является подаваемый на систему сигнал управления.\n",
        "\n",
        "Экспертное мнение: полученные значения RMSE, позволяют сделать вывод о более высоком качестве работы модели на основе случайного леса. Оцека важности признаков говорит о необходимости использования начальных и конечных значений выходного сигнала, а также амплитуды входного."
      ],
      "metadata": {
        "id": "vZyGfL0n9oaf"
      }
    }
  ]
}